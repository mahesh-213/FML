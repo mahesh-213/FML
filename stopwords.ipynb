{
  "nbformat": 4,
  "nbformat_minor": 0,
  "metadata": {
    "colab": {
      "provenance": [],
      "authorship_tag": "ABX9TyOtwqMtHelmTTMU8EVAMdGI",
      "include_colab_link": true
    },
    "kernelspec": {
      "name": "python3",
      "display_name": "Python 3"
    },
    "language_info": {
      "name": "python"
    }
  },
  "cells": [
    {
      "cell_type": "markdown",
      "metadata": {
        "id": "view-in-github",
        "colab_type": "text"
      },
      "source": [
        "<a href=\"https://colab.research.google.com/github/mahesh-213/FML/blob/main/stopwords.ipynb\" target=\"_parent\"><img src=\"https://colab.research.google.com/assets/colab-badge.svg\" alt=\"Open In Colab\"/></a>"
      ]
    },
    {
      "cell_type": "code",
      "execution_count": 15,
      "metadata": {
        "colab": {
          "base_uri": "https://localhost:8080/"
        },
        "id": "O1SbPU3doykP",
        "outputId": "08a3407e-b7fd-4430-ae61-7b1ae4f585de"
      },
      "outputs": [
        {
          "output_type": "stream",
          "name": "stdout",
          "text": [
            "['i', 'me', 'my', 'myself', 'we', 'our', 'ours', 'ourselves', 'you', \"you're\", \"you've\", \"you'll\", \"you'd\", 'your', 'yours', 'yourself', 'yourselves', 'he', 'him', 'his', 'himself', 'she', \"she's\", 'her', 'hers', 'herself', 'it', \"it's\", 'its', 'itself', 'they', 'them', 'their', 'theirs', 'themselves', 'what', 'which', 'who', 'whom', 'this', 'that', \"that'll\", 'these', 'those', 'am', 'is', 'are', 'was', 'were', 'be', 'been', 'being', 'have', 'has', 'had', 'having', 'do', 'does', 'did', 'doing', 'a', 'an', 'the', 'and', 'but', 'if', 'or', 'because', 'as', 'until', 'while', 'of', 'at', 'by', 'for', 'with', 'about', 'against', 'between', 'into', 'through', 'during', 'before', 'after', 'above', 'below', 'to', 'from', 'up', 'down', 'in', 'out', 'on', 'off', 'over', 'under', 'again', 'further', 'then', 'once', 'here', 'there', 'when', 'where', 'why', 'how', 'all', 'any', 'both', 'each', 'few', 'more', 'most', 'other', 'some', 'such', 'no', 'nor', 'not', 'only', 'own', 'same', 'so', 'than', 'too', 'very', 's', 't', 'can', 'will', 'just', 'don', \"don't\", 'should', \"should've\", 'now', 'd', 'll', 'm', 'o', 're', 've', 'y', 'ain', 'aren', \"aren't\", 'couldn', \"couldn't\", 'didn', \"didn't\", 'doesn', \"doesn't\", 'hadn', \"hadn't\", 'hasn', \"hasn't\", 'haven', \"haven't\", 'isn', \"isn't\", 'ma', 'mightn', \"mightn't\", 'mustn', \"mustn't\", 'needn', \"needn't\", 'shan', \"shan't\", 'shouldn', \"shouldn't\", 'wasn', \"wasn't\", 'weren', \"weren't\", 'won', \"won't\", 'wouldn', \"wouldn't\"]\n",
            "['efdcdr', 'rtgtfsd', 'fgdrcf', 'dg', 'drgr', 'xgd', 'drg', 'dcgx', 'gfhyrxdy', 'ht', 'fud', 'rdyhtf', 'r', 't', 'yy', 'ry', 'ryyrfty', 'rf5rtfgjufy', 'drudftdr6utfye566yy', 'hgjdrtghuksz', 'fthjkzzrydtijx', 'xchfghtjhgv', 'zasgafd', 'asdfaesefzsdx', 'zf', 'sdffr', 'zdzsdffsfdasfsfaeasdfwfswasszsfcsfdsadrfsdfasdfasdfrfdfefewaafqsasdvsefdcsdzsxsasdfsdtfsdfaerwdszdfasrf', '.']\n",
            "['efdcdr', 'rtgtfsd', 'fgdrcf', 'dg', 'drgr', 'xgd', 'drg', 'dcgx', 'gfhyrxdy', 'ht', 'fud', 'rdyhtf', 'r', 'yy', 'ry', 'ryyrfty', 'rf5rtfgjufy', 'drudftdr6utfye566yy', 'hgjdrtghuksz', 'fthjkzzrydtijx', 'xchfghtjhgv', 'zasgafd', 'asdfaesefzsdx', 'zf', 'sdffr', 'zdzsdffsfdasfsfaeasdfwfswasszsfcsfdsadrfsdfasdfasdfrfdfefewaafqsasdvsefdcsdzsxsasdfsdtfsdfaerwdszdfasrf', '.']\n"
          ]
        },
        {
          "output_type": "stream",
          "name": "stderr",
          "text": [
            "[nltk_data] Downloading package punkt to /root/nltk_data...\n",
            "[nltk_data]   Package punkt is already up-to-date!\n"
          ]
        }
      ],
      "source": [
        "import nltk\n",
        "nltk.download('punkt')\n",
        "from nltk.corpus import stopwords\n",
        "print(stopwords.words('english'))\n",
        "\n",
        "\n",
        "from nltk.corpus import stopwords\n",
        "from nltk.tokenize import word_tokenize\n",
        "  \n",
        "example_sent = \"\"\"efdcdr rtgtfsd fgdrcf dg drgr xgd drg dcgx gfhyrxdy  ht     fud  rdyhtf r t yy ry  ryyrfty rf5rtfgjufy drudftdr6utfye566yy hgjdrtghuksz  fthjkzzrydtijx xchfghtjhgv       zasgafd asdfaesefzsdx zf sdffr zdzsdffsfdasfsfaeasdfwfswasszsfcsfdsadrfsdfasdfasdfrfdfefewaafqsasdvsefdcsdzsxsasdfsdtfsdfaerwdszdfasrf.\"\"\"\n",
        "  \n",
        "stop_words = set(stopwords.words('english'))\n",
        "  \n",
        "word_tokens = word_tokenize(example_sent)\n",
        "  \n",
        "filtered_sentence = [w for w in word_tokens if not w.lower() in stop_words]\n",
        "  \n",
        "filtered_sentence = []\n",
        "  \n",
        "for w in word_tokens:\n",
        "    if w not in stop_words:\n",
        "        filtered_sentence.append(w)\n",
        "  \n",
        "print(word_tokens)\n",
        "print(filtered_sentence)"
      ]
    },
    {
      "cell_type": "code",
      "source": [
        "from nltk.classify.util import apply_features\n",
        "apply_features"
      ],
      "metadata": {
        "colab": {
          "base_uri": "https://localhost:8080/"
        },
        "id": "pfxi5A3rrTEU",
        "outputId": "db825e26-6e9c-4b35-de74-f5a5e352cb4c"
      },
      "execution_count": 16,
      "outputs": [
        {
          "output_type": "execute_result",
          "data": {
            "text/plain": [
              "<function nltk.classify.util.apply_features(feature_func, toks, labeled=None)>"
            ]
          },
          "metadata": {},
          "execution_count": 16
        }
      ]
    },
    {
      "cell_type": "code",
      "source": [],
      "metadata": {
        "id": "_K1Hy3FksfmC"
      },
      "execution_count": null,
      "outputs": []
    }
  ]
}